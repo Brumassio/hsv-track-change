{
 "cells": [
  {
   "cell_type": "code",
   "execution_count": 1,
   "metadata": {},
   "outputs": [],
   "source": [
    "import numpy as np\n",
    "from PIL import Image\n",
    "import matplotlib.pyplot as plt\n",
    "import matplotlib.colors as colors"
   ]
  },
  {
   "cell_type": "code",
   "execution_count": 6,
   "metadata": {},
   "outputs": [],
   "source": [
    "def rgb_para_hsv(rgb):\n",
    "    r, g, b = rgb / 255.0  # Normaliza os valores para o intervalo [0, 1]\n",
    "\n",
    "    vmin, vmax = min(r, g, b), max(r, g, b)\n",
    "    v = vmax\n",
    "    delta = vmax - vmin\n",
    "\n",
    "    # Calcula a Saturação\n",
    "    if vmax != 0:\n",
    "        s = delta / vmax\n",
    "    else:\n",
    "        s = 0\n",
    "\n",
    "    # Calcula o Matiz\n",
    "    if delta == 0:\n",
    "        h = 0  # Matiz indefinido\n",
    "    elif vmax == r:\n",
    "        h = (g - b) / delta % 6\n",
    "    elif vmax == g:\n",
    "        h = (b - r) / delta + 2\n",
    "    else:\n",
    "        h = (r - g) / delta + 4\n",
    "    h = (h * 60) % 360  # Converte para graus\n",
    "\n",
    "    return np.array([h, s, v])\n",
    "\n"
   ]
  },
  {
   "cell_type": "code",
   "execution_count": 10,
   "metadata": {},
   "outputs": [
    {
     "ename": "NameError",
     "evalue": "name 'rgb_para_hsv' is not defined",
     "output_type": "error",
     "traceback": [
      "\u001b[1;31m---------------------------------------------------------------------------\u001b[0m",
      "\u001b[1;31mNameError\u001b[0m                                 Traceback (most recent call last)",
      "\u001b[1;32md:\\Python\\Jupyter\\trabFrank.ipynb Cell 3\u001b[0m line \u001b[0;36m2\n\u001b[0;32m      <a href='vscode-notebook-cell:/d%3A/Python/Jupyter/trabFrank.ipynb#W3sZmlsZQ%3D%3D?line=0'>1</a>\u001b[0m img \u001b[39m=\u001b[39m np\u001b[39m.\u001b[39marray(Image\u001b[39m.\u001b[39mopen(\u001b[39m'\u001b[39m\u001b[39mimages\u001b[39m\u001b[39m\\\u001b[39m\u001b[39mcassioTarzan.jpg\u001b[39m\u001b[39m'\u001b[39m))\n\u001b[1;32m----> <a href='vscode-notebook-cell:/d%3A/Python/Jupyter/trabFrank.ipynb#W3sZmlsZQ%3D%3D?line=1'>2</a>\u001b[0m img \u001b[39m=\u001b[39m rgb_para_hsv(img)\n\u001b[0;32m      <a href='vscode-notebook-cell:/d%3A/Python/Jupyter/trabFrank.ipynb#W3sZmlsZQ%3D%3D?line=2'>3</a>\u001b[0m matiz \u001b[39m=\u001b[39m \u001b[39m320\u001b[39m\n\u001b[0;32m      <a href='vscode-notebook-cell:/d%3A/Python/Jupyter/trabFrank.ipynb#W3sZmlsZQ%3D%3D?line=3'>4</a>\u001b[0m x \u001b[39m=\u001b[39m \u001b[39m12\u001b[39m\n",
      "\u001b[1;31mNameError\u001b[0m: name 'rgb_para_hsv' is not defined"
     ]
    }
   ],
   "source": [
    "img = np.array(Image.open('images\\cassioTarzan.jpg'))\n",
    "img = rgb_para_hsv(img)\n",
    "matiz = 320\n",
    "x = 12\n",
    "plt.figure(figsize=(5, 5))\n",
    "plt.imshow(img)"
   ]
  }
 ],
 "metadata": {
  "kernelspec": {
   "display_name": "Python 3",
   "language": "python",
   "name": "python3"
  },
  "language_info": {
   "codemirror_mode": {
    "name": "ipython",
    "version": 3
   },
   "file_extension": ".py",
   "mimetype": "text/x-python",
   "name": "python",
   "nbconvert_exporter": "python",
   "pygments_lexer": "ipython3",
   "version": "3.11.5"
  },
  "orig_nbformat": 4
 },
 "nbformat": 4,
 "nbformat_minor": 2
}
